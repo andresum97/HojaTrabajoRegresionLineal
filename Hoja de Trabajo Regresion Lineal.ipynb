{
 "cells": [
  {
   "cell_type": "markdown",
   "metadata": {},
   "source": [
    "# Hoja de Trabajo - Regresión Lineal\n",
    "## Andres Urizar - 17632\n",
    "### Inteligencia Artificial"
   ]
  },
  {
   "cell_type": "code",
   "execution_count": 2,
   "metadata": {},
   "outputs": [],
   "source": [
    "import numpy as np\n",
    "import pandas as pd\n",
    "from matplotlib import pyplot as plt"
   ]
  },
  {
   "cell_type": "code",
   "execution_count": 3,
   "metadata": {},
   "outputs": [],
   "source": [
    "data = pd.read_csv('Admission_Predict.csv')"
   ]
  },
  {
   "cell_type": "code",
   "execution_count": 21,
   "metadata": {},
   "outputs": [],
   "source": []
  },
  {
   "cell_type": "code",
   "execution_count": 22,
   "metadata": {},
   "outputs": [
    {
     "data": {
      "text/plain": [
       "array([[337.  , 118.  ,   4.  , ...,   4.5 ,   9.65,   1.  ],\n",
       "       [324.  , 107.  ,   4.  , ...,   4.5 ,   8.87,   1.  ],\n",
       "       [316.  , 104.  ,   3.  , ...,   3.5 ,   8.  ,   1.  ],\n",
       "       ...,\n",
       "       [330.  , 116.  ,   4.  , ...,   4.5 ,   9.45,   1.  ],\n",
       "       [312.  , 103.  ,   3.  , ...,   4.  ,   8.78,   0.  ],\n",
       "       [333.  , 117.  ,   4.  , ...,   4.  ,   9.66,   1.  ]])"
      ]
     },
     "execution_count": 22,
     "metadata": {},
     "output_type": "execute_result"
    }
   ],
   "source": []
  },
  {
   "cell_type": "code",
   "execution_count": 4,
   "metadata": {},
   "outputs": [],
   "source": [
    "y = np.array(data.iloc[:,8].values)"
   ]
  },
  {
   "cell_type": "markdown",
   "metadata": {},
   "source": [
    "## Se selecciona la columna Chance of Admit como Dataset Y"
   ]
  },
  {
   "cell_type": "code",
   "execution_count": 5,
   "metadata": {},
   "outputs": [
    {
     "data": {
      "text/plain": [
       "array([0.92, 0.76, 0.72, 0.8 , 0.65, 0.9 , 0.75, 0.68, 0.5 , 0.45, 0.52,\n",
       "       0.84, 0.78, 0.62, 0.61, 0.54, 0.66, 0.65, 0.63, 0.62, 0.64, 0.7 ,\n",
       "       0.94, 0.95, 0.97, 0.94, 0.76, 0.44, 0.46, 0.54, 0.65, 0.74, 0.91,\n",
       "       0.9 , 0.94, 0.88, 0.64, 0.58, 0.52, 0.48, 0.46, 0.49, 0.53, 0.87,\n",
       "       0.91, 0.88, 0.86, 0.89, 0.82, 0.78, 0.76, 0.56, 0.78, 0.72, 0.7 ,\n",
       "       0.64, 0.64, 0.46, 0.36, 0.42, 0.48, 0.47, 0.54, 0.56, 0.52, 0.55,\n",
       "       0.61, 0.57, 0.68, 0.78, 0.94, 0.96, 0.93, 0.84, 0.74, 0.72, 0.74,\n",
       "       0.64, 0.44, 0.46, 0.5 , 0.96, 0.92, 0.92, 0.94, 0.76, 0.72, 0.66,\n",
       "       0.64, 0.74, 0.64, 0.38, 0.34, 0.44, 0.36, 0.42, 0.48, 0.86, 0.9 ,\n",
       "       0.79, 0.71, 0.64, 0.62, 0.57, 0.74, 0.69, 0.87, 0.91, 0.93, 0.68,\n",
       "       0.61, 0.69, 0.62, 0.72, 0.59, 0.66, 0.56, 0.45, 0.47, 0.71, 0.94,\n",
       "       0.94, 0.57, 0.61, 0.57, 0.64, 0.85, 0.78, 0.84, 0.92, 0.96, 0.77,\n",
       "       0.71, 0.79, 0.89, 0.82, 0.76, 0.71, 0.8 , 0.78, 0.84, 0.9 , 0.92,\n",
       "       0.97, 0.8 , 0.81, 0.75, 0.83, 0.96, 0.79, 0.93, 0.94, 0.86, 0.79,\n",
       "       0.8 , 0.77, 0.7 , 0.65, 0.61, 0.52, 0.57, 0.53, 0.67, 0.68, 0.81,\n",
       "       0.78, 0.65, 0.64, 0.64, 0.65, 0.68, 0.89, 0.86, 0.89, 0.87, 0.85,\n",
       "       0.9 , 0.82, 0.72, 0.73, 0.71, 0.71, 0.68, 0.75, 0.72, 0.89, 0.84,\n",
       "       0.93, 0.93, 0.88, 0.9 , 0.87, 0.86, 0.94, 0.77, 0.78, 0.73, 0.73,\n",
       "       0.7 , 0.72, 0.73, 0.72, 0.97, 0.97, 0.69, 0.57, 0.63, 0.66, 0.64,\n",
       "       0.68, 0.79, 0.82, 0.95, 0.96, 0.94, 0.93, 0.91, 0.85, 0.84, 0.74,\n",
       "       0.76, 0.75, 0.76, 0.71, 0.67, 0.61, 0.63, 0.64, 0.71, 0.82, 0.73,\n",
       "       0.74, 0.69, 0.64, 0.91, 0.88, 0.85, 0.86, 0.7 , 0.59, 0.6 , 0.65,\n",
       "       0.7 , 0.76, 0.63, 0.81, 0.72, 0.71, 0.8 , 0.77, 0.74, 0.7 , 0.71,\n",
       "       0.93, 0.85, 0.79, 0.76, 0.78, 0.77, 0.9 , 0.87, 0.71, 0.7 , 0.7 ,\n",
       "       0.75, 0.71, 0.72, 0.73, 0.83, 0.77, 0.72, 0.54, 0.49, 0.52, 0.58,\n",
       "       0.78, 0.89, 0.7 , 0.66, 0.67, 0.68, 0.8 , 0.81, 0.8 , 0.94, 0.93,\n",
       "       0.92, 0.89, 0.82, 0.79, 0.58, 0.56, 0.56, 0.64, 0.61, 0.68, 0.76,\n",
       "       0.86, 0.9 , 0.71, 0.62, 0.66, 0.65, 0.73, 0.62, 0.74, 0.79, 0.8 ,\n",
       "       0.69, 0.7 , 0.76, 0.84, 0.78, 0.67, 0.66, 0.65, 0.54, 0.58, 0.79,\n",
       "       0.8 , 0.75, 0.73, 0.72, 0.62, 0.67, 0.81, 0.63, 0.69, 0.8 , 0.43,\n",
       "       0.8 , 0.73, 0.75, 0.71, 0.73, 0.83, 0.72, 0.94, 0.81, 0.81, 0.75,\n",
       "       0.79, 0.58, 0.59, 0.47, 0.49, 0.47, 0.42, 0.57, 0.62, 0.74, 0.73,\n",
       "       0.64, 0.63, 0.59, 0.73, 0.79, 0.68, 0.7 , 0.81, 0.85, 0.93, 0.91,\n",
       "       0.69, 0.77, 0.86, 0.74, 0.57, 0.51, 0.67, 0.72, 0.89, 0.95, 0.79,\n",
       "       0.39, 0.38, 0.34, 0.47, 0.56, 0.71, 0.78, 0.73, 0.82, 0.62, 0.96,\n",
       "       0.96, 0.46, 0.53, 0.49, 0.76, 0.64, 0.71, 0.84, 0.77, 0.89, 0.82,\n",
       "       0.84, 0.91, 0.67, 0.95])"
      ]
     },
     "execution_count": 5,
     "metadata": {},
     "output_type": "execute_result"
    }
   ],
   "source": [
    "y"
   ]
  },
  {
   "cell_type": "markdown",
   "metadata": {},
   "source": [
    "## Se escogen los posibles columnas de X"
   ]
  },
  {
   "cell_type": "markdown",
   "metadata": {},
   "source": [
    "### Gre Score"
   ]
  },
  {
   "cell_type": "code",
   "execution_count": 6,
   "metadata": {},
   "outputs": [],
   "source": [
    "gre = np.array(data.iloc[:,1].values)"
   ]
  },
  {
   "cell_type": "code",
   "execution_count": 7,
   "metadata": {},
   "outputs": [
    {
     "data": {
      "text/plain": [
       "array([337, 324, 316, 322, 314, 330, 321, 308, 302, 323, 325, 327, 328,\n",
       "       307, 311, 314, 317, 319, 318, 303, 312, 325, 328, 334, 336, 340,\n",
       "       322, 298, 295, 310, 300, 327, 338, 340, 331, 320, 299, 300, 304,\n",
       "       307, 308, 316, 313, 332, 326, 322, 329, 339, 321, 327, 313, 312,\n",
       "       334, 324, 322, 320, 316, 298, 300, 311, 309, 307, 304, 315, 325,\n",
       "       325, 327, 316, 318, 328, 332, 336, 321, 314, 314, 329, 327, 301,\n",
       "       296, 294, 312, 340, 320, 322, 340, 319, 315, 317, 314, 316, 318,\n",
       "       299, 298, 301, 303, 304, 306, 331, 332, 323, 322, 312, 314, 317,\n",
       "       326, 316, 329, 338, 331, 304, 305, 321, 301, 320, 311, 310, 299,\n",
       "       290, 296, 327, 335, 334, 310, 308, 301, 300, 323, 319, 326, 333,\n",
       "       339, 303, 309, 323, 333, 314, 312, 316, 326, 318, 329, 332, 331,\n",
       "       340, 325, 320, 315, 326, 339, 311, 334, 332, 321, 324, 326, 312,\n",
       "       315, 309, 306, 297, 315, 298, 318, 317, 329, 322, 302, 313, 293,\n",
       "       311, 312, 334, 322, 323, 321, 320, 329, 319, 309, 307, 300, 305,\n",
       "       299, 314, 316, 327, 317, 335, 331, 324, 324, 323, 322, 336, 316,\n",
       "       307, 306, 310, 311, 313, 317, 315, 340, 334, 298, 295, 315, 310,\n",
       "       305, 301, 325, 328, 338, 333, 331, 330, 322, 321, 324, 312, 313,\n",
       "       316, 324, 308, 305, 296, 306, 312, 318, 324, 313, 319, 312, 304,\n",
       "       330, 326, 325, 329, 310, 299, 296, 317, 324, 325, 314, 328, 316,\n",
       "       311, 324, 321, 320, 316, 318, 335, 321, 307, 309, 324, 326, 331,\n",
       "       327, 312, 308, 324, 325, 313, 312, 314, 327, 308, 306, 299, 294,\n",
       "       312, 315, 322, 329, 320, 308, 304, 311, 317, 312, 321, 340, 331,\n",
       "       336, 324, 314, 313, 307, 300, 302, 312, 316, 317, 310, 320, 330,\n",
       "       305, 309, 319, 322, 323, 313, 321, 323, 325, 312, 308, 320, 328,\n",
       "       311, 301, 305, 308, 298, 300, 324, 327, 317, 323, 314, 305, 315,\n",
       "       326, 299, 295, 324, 297, 327, 311, 308, 319, 312, 325, 319, 332,\n",
       "       323, 324, 312, 326, 308, 305, 295, 316, 304, 299, 302, 313, 318,\n",
       "       325, 303, 300, 297, 317, 327, 301, 314, 321, 322, 334, 338, 306,\n",
       "       313, 330, 320, 311, 298, 301, 310, 324, 336, 321, 315, 304, 297,\n",
       "       290, 303, 311, 322, 319, 324, 300, 340, 335, 302, 307, 296, 320,\n",
       "       314, 318, 326, 317, 329, 324, 325, 330, 312, 333], dtype=int64)"
      ]
     },
     "execution_count": 7,
     "metadata": {},
     "output_type": "execute_result"
    }
   ],
   "source": [
    "gre"
   ]
  },
  {
   "cell_type": "code",
   "execution_count": 8,
   "metadata": {},
   "outputs": [
    {
     "data": {
      "text/plain": [
       "<matplotlib.collections.PathCollection at 0xc7c45f0>"
      ]
     },
     "execution_count": 8,
     "metadata": {},
     "output_type": "execute_result"
    },
    {
     "data": {
      "image/png": "[encoded data removed]",
      "text/plain": [
       "<Figure size 432x288 with 1 Axes>"
      ]
     },
     "metadata": {
      "needs_background": "light"
     },
     "output_type": "display_data"
    }
   ],
   "source": [
    "plt.scatter(gre,y)"
   ]
  },
  {
   "cell_type": "markdown",
   "metadata": {},
   "source": [
    "### TOEFL Score"
   ]
  },
  {
   "cell_type": "code",
   "execution_count": 9,
   "metadata": {},
   "outputs": [],
   "source": [
    "toefl = np.array(data.iloc[:,2].values)"
   ]
  },
  {
   "cell_type": "code",
   "execution_count": 10,
   "metadata": {},
   "outputs": [
    {
     "data": {
      "text/plain": [
       "array([118, 107, 104, 110, 103, 115, 109, 101, 102, 108, 106, 111, 112,\n",
       "       109, 104, 105, 107, 106, 110, 102, 107, 114, 116, 119, 119, 120,\n",
       "       109,  98,  93,  99,  97, 103, 118, 114, 112, 110, 106, 105, 105,\n",
       "       108, 110, 105, 107, 117, 113, 110, 114, 119, 110, 111,  98, 100,\n",
       "       116, 112, 110, 103, 102,  99,  99, 104, 100, 101, 105, 107, 111,\n",
       "       112, 114, 107, 109, 115, 118, 112, 111, 108, 106, 114, 112,  99,\n",
       "        95,  93, 105, 120, 110, 115, 115, 103, 106, 107, 108, 109, 106,\n",
       "        97,  98,  97,  99, 100, 100, 120, 119, 113, 107, 105, 106, 104,\n",
       "       112, 110, 111, 117, 116, 103, 108, 109, 107, 110, 105, 106, 102,\n",
       "       104,  99, 104, 117, 119, 106, 108, 106, 100, 113, 112, 112, 118,\n",
       "       114, 105, 105, 112, 113, 109, 103, 100, 116, 109, 110, 118, 115,\n",
       "       120, 112, 113, 105, 114, 116, 106, 114, 116, 112, 105, 108, 109,\n",
       "       105, 104, 106, 100, 103,  99, 109, 105, 111, 110, 102, 102,  97,\n",
       "        99, 101, 117, 110, 113, 111, 111, 119, 110, 108, 102, 104, 107,\n",
       "       100, 110, 106, 113, 107, 118, 115, 112, 111, 110, 114, 118, 109,\n",
       "       107, 105, 106, 104, 107, 103, 110, 120, 120, 105,  99,  99, 102,\n",
       "       106, 104, 108, 110, 120, 119, 117, 116, 112, 109, 110, 104, 103,\n",
       "       110, 113, 109, 105,  99, 110, 110, 112, 111, 104, 106, 107, 100,\n",
       "       113, 111, 112, 114, 104, 100, 101, 103, 115, 114, 107, 110, 105,\n",
       "       104, 110, 111, 104,  99, 100, 115, 114, 110,  99, 100, 102, 119,\n",
       "       108, 104, 103, 111, 110, 102, 105, 107, 113, 108, 105,  96,  95,\n",
       "        99, 100, 110, 113, 101, 103, 102, 102, 110, 106, 111, 112, 116,\n",
       "       118, 114, 104, 109, 105, 102,  99,  98, 101, 100, 107, 120, 114,\n",
       "       112, 106, 108, 105, 107, 106, 109, 110, 112, 108, 110, 104, 108,\n",
       "       107, 100, 105, 104, 101,  99, 111, 113, 106, 104, 107, 102, 104,\n",
       "       116, 100, 101, 112,  96, 113, 105, 106, 108, 107, 111, 110, 118,\n",
       "       108, 107, 107, 110, 106, 103,  96,  98,  97,  94,  99, 101, 107,\n",
       "       110, 100, 102,  98, 106, 109, 104, 105, 107, 110, 116, 115, 103,\n",
       "       102, 114, 104,  98,  92,  98, 103, 110, 119, 109, 105, 101,  96,\n",
       "       100,  98,  99, 104, 105, 110, 100, 113, 117, 101, 105,  97, 108,\n",
       "       102, 106, 112, 104, 111, 110, 107, 116, 103, 117], dtype=int64)"
      ]
     },
     "execution_count": 10,
     "metadata": {},
     "output_type": "execute_result"
    }
   ],
   "source": [
    "toefl"
   ]
  },
  {
   "cell_type": "code",
   "execution_count": 11,
   "metadata": {},
   "outputs": [
    {
     "data": {
      "text/plain": [
       "<matplotlib.collections.PathCollection at 0xc831ff0>"
      ]
     },
     "execution_count": 11,
     "metadata": {},
     "output_type": "execute_result"
    },
    {
     "data": {
      "image/png": "[encoded data removed]",
      "text/plain": [
       "<Figure size 432x288 with 1 Axes>"
      ]
     },
     "metadata": {
      "needs_background": "light"
     },
     "output_type": "display_data"
    }
   ],
   "source": [
    "plt.scatter(toefl,y)"
   ]
  },
  {
   "cell_type": "markdown",
   "metadata": {},
   "source": [
    "### University"
   ]
  },
  {
   "cell_type": "code",
   "execution_count": 12,
   "metadata": {},
   "outputs": [],
   "source": [
    "uni = np.array(data.iloc[:,3].values)"
   ]
  },
  {
   "cell_type": "code",
   "execution_count": 13,
   "metadata": {},
   "outputs": [
    {
     "data": {
      "text/plain": [
       "array([4, 4, 3, 3, 2, 5, 3, 2, 1, 3, 3, 4, 4, 3, 3, 3, 3, 3, 3, 3, 3, 4,\n",
       "       5, 5, 5, 5, 5, 2, 1, 2, 2, 3, 4, 5, 5, 5, 2, 1, 1, 2, 3, 2, 2, 4,\n",
       "       5, 5, 5, 5, 3, 4, 3, 2, 4, 4, 3, 3, 3, 2, 1, 2, 2, 3, 2, 2, 3, 4,\n",
       "       3, 2, 3, 4, 5, 5, 5, 4, 3, 2, 3, 2, 2, 1, 3, 4, 5, 5, 5, 4, 3, 2,\n",
       "       3, 4, 2, 3, 2, 2, 3, 4, 2, 3, 4, 3, 3, 2, 2, 2, 3, 3, 4, 4, 5, 5,\n",
       "       5, 4, 3, 2, 3, 4, 3, 4, 2, 5, 5, 5, 4, 3, 4, 3, 3, 3, 3, 5, 5, 5,\n",
       "       5, 5, 5, 4, 3, 2, 2, 1, 2, 2, 5, 4, 2, 2, 3, 3, 4, 2, 4, 5, 5, 3,\n",
       "       3, 3, 3, 2, 2, 1, 1, 1, 3, 3, 4, 5, 3, 3, 2, 2, 2, 5, 4, 4, 4, 4,\n",
       "       4, 3, 3, 3, 3, 2, 2, 3, 2, 4, 3, 5, 5, 5, 5, 5, 5, 5, 3, 2, 2, 2,\n",
       "       3, 3, 3, 2, 5, 5, 3, 2, 2, 3, 2, 3, 4, 4, 4, 5, 4, 5, 4, 4, 4, 3,\n",
       "       3, 3, 4, 2, 2, 2, 2, 2, 3, 4, 3, 3, 2, 2, 5, 5, 4, 5, 3, 1, 1, 2,\n",
       "       3, 3, 2, 4, 3, 2, 3, 3, 3, 2, 2, 4, 4, 4, 3, 3, 4, 4, 5, 3, 2, 3,\n",
       "       2, 3, 2, 3, 4, 4, 2, 2, 1, 1, 1, 3, 5, 2, 2, 2, 3, 3, 3, 3, 4, 5,\n",
       "       5, 5, 4, 3, 2, 2, 2, 1, 2, 2, 3, 3, 3, 3, 2, 2, 2, 3, 2, 3, 3, 4,\n",
       "       3, 4, 3, 4, 4, 3, 2, 2, 2, 1, 3, 4, 3, 3, 2, 2, 3, 3, 3, 2, 4, 2,\n",
       "       3, 2, 3, 3, 4, 4, 3, 5, 5, 5, 3, 3, 3, 2, 2, 1, 2, 1, 1, 3, 3, 4,\n",
       "       2, 3, 2, 2, 3, 2, 2, 2, 3, 4, 5, 2, 3, 4, 3, 1, 1, 1, 2, 3, 4, 3,\n",
       "       2, 2, 2, 1, 1, 1, 3, 3, 4, 3, 4, 5, 2, 2, 2, 3, 2, 3, 4, 2, 4, 3,\n",
       "       3, 4, 3, 4], dtype=int64)"
      ]
     },
     "execution_count": 13,
     "metadata": {},
     "output_type": "execute_result"
    }
   ],
   "source": [
    "uni"
   ]
  },
  {
   "cell_type": "code",
   "execution_count": 14,
   "metadata": {},
   "outputs": [
    {
     "data": {
      "text/plain": [
       "<matplotlib.collections.PathCollection at 0xd8507b0>"
      ]
     },
     "execution_count": 14,
     "metadata": {},
     "output_type": "execute_result"
    },
    {
     "data": {
      "image/png": "[encoded data removed]",
      "text/plain": [
       "<Figure size 432x288 with 1 Axes>"
      ]
     },
     "metadata": {
      "needs_background": "light"
     },
     "output_type": "display_data"
    }
   ],
   "source": [
    "plt.scatter(uni,y)"
   ]
  },
  {
   "cell_type": "markdown",
   "metadata": {},
   "source": [
    "### SOP"
   ]
  },
  {
   "cell_type": "code",
   "execution_count": 15,
   "metadata": {},
   "outputs": [],
   "source": [
    "sop = np.array(data.iloc[:,4].values)"
   ]
  },
  {
   "cell_type": "code",
   "execution_count": 16,
   "metadata": {},
   "outputs": [
    {
     "data": {
      "text/plain": [
       "array([4.5, 4. , 3. , 3.5, 2. , 4.5, 3. , 3. , 2. , 3.5, 3.5, 4. , 4. ,\n",
       "       4. , 3.5, 3.5, 4. , 4. , 4. , 3.5, 3. , 3. , 5. , 5. , 4. , 4.5,\n",
       "       4.5, 1.5, 2. , 1.5, 3. , 4. , 3. , 4. , 4. , 5. , 4. , 1. , 3. ,\n",
       "       4. , 3.5, 2.5, 2.5, 4.5, 4.5, 5. , 4. , 4.5, 3.5, 3. , 2.5, 1.5,\n",
       "       4. , 4. , 3. , 3. , 2. , 4. , 3. , 2. , 3. , 4. , 3. , 4. , 3. ,\n",
       "       3.5, 3. , 3.5, 3.5, 4.5, 5. , 5. , 5. , 4.5, 3. , 2. , 3. , 3. ,\n",
       "       3. , 1.5, 2. , 5. , 5. , 4. , 4.5, 4.5, 4.5, 3.5, 4.5, 4.5, 4. ,\n",
       "       5. , 4. , 3. , 2. , 1.5, 3. , 4. , 5. , 4. , 3.5, 2.5, 4. , 4.5,\n",
       "       3.5, 4. , 4.5, 3.5, 5. , 5. , 3. , 4. , 3.5, 4. , 3.5, 4.5, 4. ,\n",
       "       2. , 3. , 3. , 5. , 4.5, 1.5, 3.5, 2.5, 2. , 4. , 2.5, 3.5, 5. ,\n",
       "       4. , 5. , 3.5, 4. , 4. , 3.5, 5. , 1.5, 4.5, 3.5, 4. , 4.5, 4. ,\n",
       "       4.5, 3. , 2. , 2. , 3. , 4. , 3.5, 4. , 5. , 5. , 3. , 3. , 3. ,\n",
       "       2. , 2. , 2. , 1.5, 1.5, 1.5, 3. , 3.5, 4.5, 4.5, 3.5, 2. , 2. ,\n",
       "       2.5, 2.5, 4. , 4. , 4. , 4. , 4.5, 4.5, 3.5, 2.5, 3. , 3.5, 2.5,\n",
       "       3. , 4. , 2.5, 4.5, 3.5, 4.5, 4.5, 5. , 4.5, 4. , 4.5, 4.5, 3.5,\n",
       "       3. , 3. , 3.5, 4.5, 4. , 2.5, 3.5, 4.5, 4. , 3.5, 2.5, 3.5, 3.5,\n",
       "       3. , 3.5, 4.5, 5. , 5. , 5. , 4.5, 5. , 4.5, 4. , 3. , 3.5, 4. ,\n",
       "       3.5, 4.5, 3. , 3. , 2.5, 3.5, 3.5, 4. , 3. , 4. , 3.5, 2.5, 2.5,\n",
       "       5. , 4.5, 4. , 4.5, 2. , 1.5, 2.5, 2.5, 3.5, 3.5, 2.5, 4. , 3. ,\n",
       "       2.5, 3.5, 3.5, 3. , 2.5, 2.5, 4.5, 4. , 4. , 4. , 4. , 5. , 5. ,\n",
       "       5. , 3.5, 2.5, 2.5, 3. , 2.5, 2. , 3. , 4.5, 4.5, 2.5, 1.5, 1.5,\n",
       "       1. , 2. , 3.5, 5. , 2.5, 3. , 3. , 4.5, 4. , 4. , 2.5, 5. , 4. ,\n",
       "       4.5, 5. , 5. , 4. , 2.5, 1.5, 1. , 3.5, 2.5, 3. , 3.5, 4. , 4.5,\n",
       "       3. , 2.5, 2.5, 3. , 3.5, 2.5, 3.5, 4. , 4. , 3.5, 3.5, 3. , 4.5,\n",
       "       4.5, 3.5, 3. , 2.5, 1.5, 1. , 2.5, 3.5, 4. , 4. , 2.5, 2. , 3. ,\n",
       "       3.5, 2. , 2.5, 4. , 2.5, 3.5, 3. , 3.5, 3. , 4.5, 4. , 3. , 5. ,\n",
       "       4. , 3.5, 3. , 3.5, 3. , 2.5, 1.5, 1.5, 1.5, 1. , 2. , 2.5, 3. ,\n",
       "       3.5, 3. , 3.5, 2.5, 2. , 3.5, 3.5, 2.5, 2. , 4. , 4. , 4.5, 2.5,\n",
       "       3.5, 4.5, 3.5, 1. , 2. , 2. , 2.5, 3.5, 4.5, 3. , 2. , 2. , 2.5,\n",
       "       1.5, 2. , 2.5, 3.5, 3. , 4.5, 3. , 5. , 5. , 2.5, 2. , 1.5, 3.5,\n",
       "       2. , 2. , 4. , 3. , 4.5, 3.5, 3. , 5. , 3.5, 5. ])"
      ]
     },
     "execution_count": 16,
     "metadata": {},
     "output_type": "execute_result"
    }
   ],
   "source": [
    "sop"
   ]
  },
  {
   "cell_type": "code",
   "execution_count": 17,
   "metadata": {},
   "outputs": [
    {
     "data": {
      "text/plain": [
       "<matplotlib.collections.PathCollection at 0xd89b5b0>"
      ]
     },
     "execution_count": 17,
     "metadata": {},
     "output_type": "execute_result"
    },
    {
     "data": {
      "image/png": "[encoded data removed]",
      "text/plain": [
       "<Figure size 432x288 with 1 Axes>"
      ]
     },
     "metadata": {
      "needs_background": "light"
     },
     "output_type": "display_data"
    }
   ],
   "source": [
    "plt.scatter(sop,y)"
   ]
  },
  {
   "cell_type": "markdown",
   "metadata": {},
   "source": [
    "### LOR"
   ]
  },
  {
   "cell_type": "code",
   "execution_count": 18,
   "metadata": {},
   "outputs": [],
   "source": [
    "lor = np.array(data.iloc[:,5].values)"
   ]
  },
  {
   "cell_type": "code",
   "execution_count": 19,
   "metadata": {},
   "outputs": [
    {
     "data": {
      "text/plain": [
       "array([4.5, 4.5, 3.5, 2.5, 3. , 3. , 4. , 4. , 1.5, 3. , 4. , 4.5, 4.5,\n",
       "       3. , 2. , 2.5, 3. , 3. , 3. , 3. , 2. , 2. , 5. , 4.5, 3.5, 4.5,\n",
       "       3.5, 2.5, 2. , 2. , 3. , 4. , 4.5, 4. , 5. , 5. , 4. , 2. , 1.5,\n",
       "       3.5, 3. , 2.5, 2. , 4. , 4. , 4. , 5. , 4. , 5. , 4. , 4.5, 3.5,\n",
       "       3. , 2.5, 3.5, 3. , 3. , 2. , 2. , 2. , 3. , 3. , 3. , 3. , 3.5,\n",
       "       3.5, 3. , 3.5, 4. , 4. , 5. , 5. , 5. , 4. , 5. , 4. , 3. , 2. ,\n",
       "       2. , 2. , 3. , 5. , 4.5, 4.5, 4.5, 3.5, 3.5, 3. , 3.5, 3.5, 4. ,\n",
       "       3.5, 3. , 3. , 2.5, 2.5, 3. , 4. , 4.5, 4. , 3.5, 3. , 3.5, 4. ,\n",
       "       3. , 4.5, 4.5, 4.5, 5. , 4. , 3. , 4. , 3.5, 3.5, 3. , 4.5, 3.5,\n",
       "       2.5, 3.5, 3.5, 5. , 4.5, 2.5, 3.5, 3. , 3. , 3. , 2. , 3. , 5. ,\n",
       "       4.5, 4.5, 3.5, 4.5, 4. , 4. , 4. , 3. , 3. , 3.5, 3. , 3.5, 3.5,\n",
       "       4. , 3.5, 2.5, 2.5, 3. , 3.5, 3. , 4. , 5. , 5. , 4. , 3.5, 3. ,\n",
       "       2.5, 2.5, 2.5, 2. , 2. , 3. , 3. , 3. , 4. , 4. , 5. , 3. , 4. ,\n",
       "       3. , 3.5, 4.5, 5. , 4.5, 4. , 3.5, 4.5, 3.5, 3. , 3. , 3. , 2.5,\n",
       "       3.5, 4. , 4. , 4.5, 3. , 3.5, 3.5, 5. , 4. , 5. , 4. , 5. , 3. ,\n",
       "       3.5, 2.5, 2.5, 4.5, 4.5, 3. , 3. , 4.5, 5. , 4. , 3. , 3. , 4. ,\n",
       "       3. , 4. , 4. , 4. , 5. , 4.5, 5. , 4.5, 4.5, 4. , 3.5, 3.5, 4. ,\n",
       "       4. , 4. , 4. , 2. , 2.5, 4. , 3. , 3.5, 3. , 4.5, 2.5, 3.5, 3.5,\n",
       "       4. , 4. , 4.5, 5. , 3.5, 2. , 3. , 2. , 3. , 3. , 4. , 2.5, 3.5,\n",
       "       3.5, 4. , 4. , 2.5, 3. , 3.5, 4.5, 5. , 4.5, 4. , 5. , 5. , 4.5,\n",
       "       3.5, 4. , 4. , 1.5, 2.5, 2.5, 2.5, 3.5, 5. , 5. , 3. , 2. , 1.5,\n",
       "       1.5, 2.5, 3. , 4.5, 3. , 3.5, 4. , 4. , 4.5, 3.5, 3. , 4.5, 4. ,\n",
       "       4. , 4.5, 5. , 3.5, 3. , 2. , 2. , 3. , 2. , 2.5, 3.5, 4.5, 4.5,\n",
       "       3.5, 2.5, 3. , 3. , 3.5, 2. , 3.5, 3.5, 4. , 3. , 3. , 3.5, 4. ,\n",
       "       4.5, 3. , 4. , 3. , 2. , 2.5, 2. , 3. , 3.5, 4. , 4. , 2.5, 2.5,\n",
       "       4. , 2. , 2. , 3.5, 1.5, 3. , 2. , 2.5, 3.5, 4. , 4.5, 2.5, 5. ,\n",
       "       4. , 4. , 3. , 3.5, 3. , 3.5, 2. , 2. , 2. , 1. , 2. , 3. , 3.5,\n",
       "       4. , 3.5, 2.5, 3. , 3.5, 4. , 3.5, 2. , 1.5, 5. , 3.5, 5. , 3. ,\n",
       "       4. , 3. , 4.5, 2.5, 2. , 3. , 2.5, 3. , 4. , 3. , 2.5, 2.5, 2. ,\n",
       "       2. , 2.5, 3. , 4. , 3.5, 4. , 3.5, 5. , 5. , 3.5, 3.5, 2. , 4. ,\n",
       "       2.5, 3. , 3.5, 3. , 4. , 3.5, 3.5, 4.5, 4. , 4. ])"
      ]
     },
     "execution_count": 19,
     "metadata": {},
     "output_type": "execute_result"
    }
   ],
   "source": [
    "lor"
   ]
  },
  {
   "cell_type": "code",
   "execution_count": 20,
   "metadata": {},
   "outputs": [
    {
     "data": {
      "text/plain": [
       "<matplotlib.collections.PathCollection at 0xd8dc1f0>"
      ]
     },
     "execution_count": 20,
     "metadata": {},
     "output_type": "execute_result"
    },
    {
     "data": {
      "image/png": "[encoded data removed]",
      "text/plain": [
       "<Figure size 432x288 with 1 Axes>"
      ]
     },
     "metadata": {
      "needs_background": "light"
     },
     "output_type": "display_data"
    }
   ],
   "source": [
    "plt.scatter(lor,y)"
   ]
  },
  {
   "cell_type": "markdown",
   "metadata": {},
   "source": [
    "### CGPA"
   ]
  },
  {
   "cell_type": "code",
   "execution_count": 21,
   "metadata": {},
   "outputs": [],
   "source": [
    "cgpa = np.array(data.iloc[:,6].values)"
   ]
  },
  {
   "cell_type": "code",
   "execution_count": 22,
   "metadata": {},
   "outputs": [
    {
     "data": {
      "text/plain": [
       "array([9.65, 8.87, 8.  , 8.67, 8.21, 9.34, 8.2 , 7.9 , 8.  , 8.6 , 8.4 ,\n",
       "       9.  , 9.1 , 8.  , 8.2 , 8.3 , 8.7 , 8.  , 8.8 , 8.5 , 7.9 , 8.4 ,\n",
       "       9.5 , 9.7 , 9.8 , 9.6 , 8.8 , 7.5 , 7.2 , 7.3 , 8.1 , 8.3 , 9.4 ,\n",
       "       9.6 , 9.8 , 9.2 , 8.4 , 7.8 , 7.5 , 7.7 , 8.  , 8.2 , 8.5 , 9.1 ,\n",
       "       9.4 , 9.1 , 9.3 , 9.7 , 8.85, 8.4 , 8.3 , 7.9 , 8.  , 8.1 , 8.  ,\n",
       "       7.7 , 7.4 , 7.6 , 6.8 , 8.3 , 8.1 , 8.2 , 8.2 , 8.5 , 8.7 , 8.92,\n",
       "       9.02, 8.64, 9.22, 9.16, 9.64, 9.76, 9.45, 9.04, 8.9 , 8.56, 8.72,\n",
       "       8.22, 7.54, 7.36, 8.02, 9.5 , 9.22, 9.36, 9.45, 8.66, 8.42, 8.28,\n",
       "       8.14, 8.76, 7.92, 7.66, 8.03, 7.88, 7.66, 7.84, 8.  , 8.96, 9.24,\n",
       "       8.88, 8.46, 8.12, 8.25, 8.47, 9.05, 8.78, 9.18, 9.46, 9.38, 8.64,\n",
       "       8.48, 8.68, 8.34, 8.56, 8.45, 9.04, 8.62, 7.46, 7.28, 8.84, 9.56,\n",
       "       9.48, 8.36, 8.22, 8.47, 8.66, 9.32, 8.71, 9.1 , 9.35, 9.76, 8.65,\n",
       "       8.56, 8.78, 9.28, 8.77, 8.45, 8.16, 9.08, 9.12, 9.15, 9.36, 9.44,\n",
       "       9.92, 8.96, 8.64, 8.48, 9.11, 9.8 , 8.26, 9.43, 9.28, 9.06, 8.75,\n",
       "       8.89, 8.69, 8.34, 8.26, 8.14, 7.9 , 7.86, 7.46, 8.5 , 8.56, 9.01,\n",
       "       8.97, 8.33, 8.27, 7.8 , 7.98, 8.04, 9.07, 9.13, 9.23, 8.97, 8.87,\n",
       "       9.16, 9.04, 8.12, 8.27, 8.16, 8.42, 7.88, 8.8 , 8.32, 9.11, 8.68,\n",
       "       9.44, 9.36, 9.08, 9.16, 8.98, 8.94, 9.53, 8.76, 8.52, 8.26, 8.33,\n",
       "       8.43, 8.69, 8.54, 8.46, 9.91, 9.87, 8.54, 7.65, 7.89, 8.02, 8.16,\n",
       "       8.12, 9.06, 9.14, 9.66, 9.78, 9.42, 9.36, 9.26, 9.13, 8.97, 8.42,\n",
       "       8.75, 8.56, 8.79, 8.45, 8.23, 8.03, 8.45, 8.53, 8.67, 9.01, 8.65,\n",
       "       8.33, 8.27, 8.07, 9.31, 9.23, 9.17, 9.19, 8.37, 7.89, 7.68, 8.15,\n",
       "       8.76, 9.04, 8.56, 9.02, 8.73, 8.48, 8.87, 8.83, 8.57, 9.  , 8.54,\n",
       "       9.68, 9.12, 8.37, 8.56, 8.64, 8.76, 9.34, 9.13, 8.09, 8.36, 8.79,\n",
       "       8.76, 8.68, 8.45, 8.17, 9.14, 8.34, 8.22, 7.86, 7.64, 8.01, 7.95,\n",
       "       8.96, 9.45, 8.62, 8.49, 8.73, 8.64, 9.11, 8.79, 8.9 , 9.66, 9.26,\n",
       "       9.19, 9.08, 9.02, 9.  , 7.65, 7.87, 7.97, 8.18, 8.32, 8.57, 8.67,\n",
       "       9.11, 9.24, 8.65, 8.  , 8.76, 8.45, 8.55, 8.43, 8.8 , 9.1 , 9.  ,\n",
       "       8.53, 8.6 , 8.74, 9.18, 9.  , 8.04, 8.13, 8.07, 7.86, 8.01, 8.8 ,\n",
       "       8.69, 8.5 , 8.44, 8.27, 8.18, 8.33, 9.14, 8.02, 7.86, 8.77, 7.89,\n",
       "       8.66, 8.12, 8.21, 8.54, 8.65, 9.11, 8.79, 9.47, 8.74, 8.66, 8.46,\n",
       "       8.76, 8.24, 8.13, 7.34, 7.43, 7.64, 7.34, 7.25, 8.04, 8.27, 8.67,\n",
       "       8.06, 8.17, 7.67, 8.12, 8.77, 7.89, 7.64, 8.44, 8.64, 9.54, 9.23,\n",
       "       8.36, 8.9 , 9.17, 8.34, 7.46, 7.88, 8.03, 8.24, 9.22, 9.62, 8.54,\n",
       "       7.65, 7.66, 7.43, 7.56, 7.65, 8.43, 8.84, 8.67, 9.15, 8.26, 9.74,\n",
       "       9.82, 7.96, 8.1 , 7.8 , 8.44, 8.24, 8.65, 9.12, 8.76, 9.23, 9.04,\n",
       "       9.11, 9.45, 8.78, 9.66])"
      ]
     },
     "execution_count": 22,
     "metadata": {},
     "output_type": "execute_result"
    }
   ],
   "source": [
    "cgpa"
   ]
  },
  {
   "cell_type": "code",
   "execution_count": 23,
   "metadata": {},
   "outputs": [
    {
     "data": {
      "text/plain": [
       "<matplotlib.collections.PathCollection at 0xd8f8dd0>"
      ]
     },
     "execution_count": 23,
     "metadata": {},
     "output_type": "execute_result"
    },
    {
     "data": {
      "image/png": "[encoded data removed]",
      "text/plain": [
       "<Figure size 432x288 with 1 Axes>"
      ]
     },
     "metadata": {
      "needs_background": "light"
     },
     "output_type": "display_data"
    }
   ],
   "source": [
    "plt.scatter(cgpa,y)"
   ]
  },
  {
   "cell_type": "markdown",
   "metadata": {},
   "source": [
    "### Por el tipo de distribución y de variables, se eligen las columnas de GRE Score, TOEFL Score y  CGPA, debido que SOP y LOR son variables categoricas y University discreta"
   ]
  },
  {
   "cell_type": "code",
   "execution_count": 24,
   "metadata": {},
   "outputs": [],
   "source": [
    "def gradient_descent(\n",
    "        X,\n",
    "        y,\n",
    "        theta_0,\n",
    "        cost,\n",
    "        cost_derivate,\n",
    "        alpha=0.01,\n",
    "        treshold=0.0001,\n",
    "        max_iter=10000):\n",
    "    theta, i = theta_0, 0\n",
    "    costs = []\n",
    "    gradient_norms = []\n",
    "    while np.linalg.norm(cost_derivate(X, y, theta)) > treshold and i < max_iter:\n",
    "        theta -= alpha * cost_derivate(X, y, theta)\n",
    "        i += 1\n",
    "        costs.append(cost(X, y, theta))\n",
    "        gradient_norms.append(cost_derivate(X, y, theta))\n",
    "    return theta, costs, gradient_norms"
   ]
  },
  {
   "cell_type": "code",
   "execution_count": 25,
   "metadata": {},
   "outputs": [],
   "source": [
    "def gradient_descent_reg(\n",
    "        X,\n",
    "        y,\n",
    "        theta_0,\n",
    "        cost,\n",
    "        cost_derivate,\n",
    "        alpha=0.01,\n",
    "        treshold=0.0001,\n",
    "        lam=1,\n",
    "        max_iter=10000):\n",
    "    theta, i = theta_0, 0\n",
    "    costs = []\n",
    "    gradient_norms = []\n",
    "    while np.linalg.norm(linear_cost_derivate_reg(X, y, theta,lam)) > treshold and i < max_iter:\n",
    "        theta -= alpha * linear_cost_derivate_reg(X, y, theta,lam)\n",
    "        i += 1\n",
    "        costs.append(cost(X, y, theta))\n",
    "        gradient_norms.append(linear_cost_derivate_reg(X, y, theta,lam))\n",
    "    return theta, costs, gradient_norms"
   ]
  },
  {
   "cell_type": "code",
   "execution_count": 26,
   "metadata": {},
   "outputs": [],
   "source": [
    "def linear_cost_derivate(X, y, theta):\n",
    "    h = np.matmul(X, theta)\n",
    "    m, _ = X.shape\n",
    "    return np.matmul((h - y).T, X).T / m"
   ]
  },
  {
   "cell_type": "code",
   "execution_count": 27,
   "metadata": {},
   "outputs": [],
   "source": [
    "def linear_cost_derivate_reg(X, y, theta, lam):\n",
    "    h = np.matmul(X, theta)\n",
    "    m, _ = X.shape\n",
    "    return (np.matmul((h - y).T, X).T + (lam*theta))/ m "
   ]
  },
  {
   "cell_type": "code",
   "execution_count": 28,
   "metadata": {},
   "outputs": [],
   "source": [
    "def linear_cost(X, y, theta):\n",
    "    m, _ = X.shape\n",
    "    h = np.matmul(X, theta)\n",
    "    sq = (y - h) ** 2\n",
    "    return sq.sum() / (2 * m)"
   ]
  },
  {
   "cell_type": "code",
   "execution_count": 29,
   "metadata": {},
   "outputs": [],
   "source": [
    "def linear_cost_reg(X, y, theta, lam):\n",
    "    m, _ = X.shape\n",
    "    h = np.matmul(X, theta)\n",
    "    sq = (y - h) ** 2\n",
    "    theta_j = theta ** 2\n",
    "    return sq.sum() + lam*theta_j.sum() / (2 * m)"
   ]
  },
  {
   "cell_type": "code",
   "execution_count": 30,
   "metadata": {},
   "outputs": [],
   "source": [
    "import random\n",
    "\n",
    "def partitions_generator(dataset, trainingNumber, cvNumber):\n",
    "    random.shuffle(dataset)\n",
    "\n",
    "    train = int(len(dataset) * trainingNumber)\n",
    "    cvn = int(len(dataset) * cvNumber)\n",
    "\n",
    "    training = dataset[:train]\n",
    "    cv = dataset[train: train + cvn]\n",
    "    test = dataset[train + cvn:]\n",
    "\n",
    "    return training, cv, test"
   ]
  },
  {
   "cell_type": "code",
   "execution_count": 255,
   "metadata": {},
   "outputs": [],
   "source": [
    "datainfo = data.iloc[:len(data),0:7].values\n",
    "training, cv, test = partitions_generator(datainfo, 0.6, 0.2)\n",
    "y = training[:len(training), 6].reshape(-1,1)\n",
    "ycv = cv[:len(cv), 6].reshape(-1,1)\n",
    "ytest = test[:len(cv), 6].reshape(-1,1)"
   ]
  },
  {
   "cell_type": "code",
   "execution_count": 254,
   "metadata": {},
   "outputs": [
    {
     "data": {
      "text/plain": [
       "array([[  1.  , 337.  , 118.  , ...,   4.5 ,   4.5 ,   9.65],\n",
       "       [  2.  , 324.  , 107.  , ...,   4.  ,   4.5 ,   8.87],\n",
       "       [  1.  , 337.  , 118.  , ...,   4.5 ,   4.5 ,   9.65],\n",
       "       ...,\n",
       "       [ 69.  , 318.  , 109.  , ...,   3.5 ,   4.  ,   9.22],\n",
       "       [ 29.  , 295.  ,  93.  , ...,   2.  ,   2.  ,   7.2 ],\n",
       "       [ 29.  , 295.  ,  93.  , ...,   2.  ,   2.  ,   7.2 ]])"
      ]
     },
     "execution_count": 254,
     "metadata": {},
     "output_type": "execute_result"
    }
   ],
   "source": [
    "training"
   ]
  },
  {
   "cell_type": "markdown",
   "metadata": {},
   "source": [
    "### Se comienza aplicando GRE para las pruebas de regresión lineal"
   ]
  },
  {
   "cell_type": "code",
   "execution_count": 32,
   "metadata": {},
   "outputs": [
    {
     "data": {
      "text/plain": [
       "(240, 1)"
      ]
     },
     "execution_count": 32,
     "metadata": {},
     "output_type": "execute_result"
    }
   ],
   "source": [
    "gre = training[:,1]\n",
    "gre = gre.reshape(-1,1)\n",
    "gre.shape"
   ]
  },
  {
   "cell_type": "code",
   "execution_count": 33,
   "metadata": {},
   "outputs": [],
   "source": [
    "TRAINING_ELEMENTS = 240\n",
    "one = np.ones(TRAINING_ELEMENTS).reshape(-1,1)\n",
    "X = np.hstack(\n",
    "    (\n",
    "        one,\n",
    "        gre**2/1000,\n",
    "        # x ** 2,\n",
    "        \n",
    "        # x ** 3,\n",
    "    )\n",
    ")"
   ]
  },
  {
   "cell_type": "code",
   "execution_count": 34,
   "metadata": {},
   "outputs": [],
   "source": [
    "dataset_1 = (X, y.reshape(TRAINING_ELEMENTS, 1))"
   ]
  },
  {
   "cell_type": "code",
   "execution_count": 35,
   "metadata": {
    "scrolled": true
   },
   "outputs": [],
   "source": [
    "(X, y) = dataset_1\n",
    "m, n = X.shape\n",
    "theta_0 = np.random.rand(n, 1)"
   ]
  },
  {
   "cell_type": "code",
   "execution_count": 36,
   "metadata": {
    "scrolled": true
   },
   "outputs": [
    {
     "name": "stdout",
     "output_type": "stream",
     "text": [
      "THETA: [[0.07283095]\n",
      " [0.33065846]]\n"
     ]
    }
   ],
   "source": [
    "theta, costs, gradient_norms = gradient_descent(\n",
    "    X,\n",
    "    y,\n",
    "    theta_0,\n",
    "    linear_cost,\n",
    "    linear_cost_derivate,\n",
    "    alpha=0.00000001,\n",
    "    treshold=0.01,\n",
    "    max_iter=10000\n",
    ")\n",
    "\n",
    "print ('THETA:', theta)\n"
   ]
  },
  {
   "cell_type": "code",
   "execution_count": 37,
   "metadata": {
    "scrolled": true
   },
   "outputs": [
    {
     "data": {
      "image/png": "[encoded data removed]",
      "text/plain": [
       "<Figure size 432x288 with 1 Axes>"
      ]
     },
     "metadata": {
      "needs_background": "light"
     },
     "output_type": "display_data"
    }
   ],
   "source": [
    "plt.scatter(X[:, 1], y)\n",
    "\n",
    "plt.plot(X[:, 1], np.matmul(X, theta), color='red')\n",
    "\n",
    "# plt.plot(np.arange(len(costs)), costs)\n",
    "\n",
    "plt.show()"
   ]
  },
  {
   "cell_type": "code",
   "execution_count": 38,
   "metadata": {
    "scrolled": true
   },
   "outputs": [
    {
     "data": {
      "text/plain": [
       "[<matplotlib.lines.Line2D at 0xda34ef0>]"
      ]
     },
     "execution_count": 38,
     "metadata": {},
     "output_type": "execute_result"
    },
    {
     "data": {
      "image/png": "[encoded data removed]",
      "text/plain": [
       "<Figure size 432x288 with 1 Axes>"
      ]
     },
     "metadata": {
      "needs_background": "light"
     },
     "output_type": "display_data"
    }
   ],
   "source": [
    "plt.plot(np.arange(len(costs)), costs)"
   ]
  },
  {
   "cell_type": "markdown",
   "metadata": {},
   "source": [
    "### Con regularización"
   ]
  },
  {
   "cell_type": "code",
   "execution_count": 39,
   "metadata": {},
   "outputs": [
    {
     "name": "stdout",
     "output_type": "stream",
     "text": [
      "THETA: [[0.07040438]\n",
      " [0.08419282]]\n"
     ]
    }
   ],
   "source": [
    "theta_reg, costs_reg, gradient_norms_reg = gradient_descent_reg(\n",
    "    X,\n",
    "    y,\n",
    "    theta_0,\n",
    "    linear_cost,\n",
    "    linear_cost_derivate,\n",
    "    alpha=0.000001,\n",
    "    lam=0.001,\n",
    "    treshold=0.01,\n",
    "    max_iter=10000\n",
    ")\n",
    "\n",
    "print ('THETA:', theta)\n"
   ]
  },
  {
   "cell_type": "code",
   "execution_count": 41,
   "metadata": {
    "scrolled": true
   },
   "outputs": [
    {
     "name": "stdout",
     "output_type": "stream",
     "text": [
      "[[0.07040438]\n",
      " [0.08419282]]\n"
     ]
    }
   ],
   "source": [
    "theta_quemada = theta\n",
    "print (theta)"
   ]
  },
  {
   "cell_type": "code",
   "execution_count": 42,
   "metadata": {
    "scrolled": true
   },
   "outputs": [
    {
     "data": {
      "image/png": "[encoded data removed]",
      "text/plain": [
       "<Figure size 432x288 with 1 Axes>"
      ]
     },
     "metadata": {
      "needs_background": "light"
     },
     "output_type": "display_data"
    }
   ],
   "source": [
    "plt.scatter(X[:, 1], y)\n",
    "\n",
    "plt.plot(X[:, 1], np.matmul(X, theta_quemada), color='red')\n",
    "\n",
    "# plt.plot(np.arange(len(costs)), costs)\n",
    "\n",
    "plt.show()"
   ]
  },
  {
   "cell_type": "code",
   "execution_count": 43,
   "metadata": {
    "scrolled": false
   },
   "outputs": [
    {
     "data": {
      "text/plain": [
       "[<matplotlib.lines.Line2D at 0xdac3d50>]"
      ]
     },
     "execution_count": 43,
     "metadata": {},
     "output_type": "execute_result"
    },
    {
     "data": {
      "image/png": "[encoded data removed]",
      "text/plain": [
       "<Figure size 432x288 with 1 Axes>"
      ]
     },
     "metadata": {
      "needs_background": "light"
     },
     "output_type": "display_data"
    }
   ],
   "source": [
    "plt.plot(np.arange(len(costs_reg)), costs_reg)"
   ]
  },
  {
   "cell_type": "markdown",
   "metadata": {},
   "source": [
    "### Cross Validation"
   ]
  },
  {
   "cell_type": "code",
   "execution_count": 44,
   "metadata": {},
   "outputs": [
    {
     "data": {
      "text/plain": [
       "(80, 1)"
      ]
     },
     "execution_count": 44,
     "metadata": {},
     "output_type": "execute_result"
    }
   ],
   "source": [
    "grecv = cv[:,1]\n",
    "grecv = grecv.reshape(-1,1)\n",
    "grecv.shape"
   ]
  },
  {
   "cell_type": "code",
   "execution_count": 45,
   "metadata": {},
   "outputs": [],
   "source": [
    "TRAINING_ELEMENTS = 80\n",
    "one = np.ones(TRAINING_ELEMENTS).reshape(-1,1)\n",
    "Xcv = np.hstack(\n",
    "    (\n",
    "        one,\n",
    "        grecv**2/1000,\n",
    "        # x ** 2,\n",
    "        \n",
    "        # x ** 3,\n",
    "    )\n",
    ")"
   ]
  },
  {
   "cell_type": "code",
   "execution_count": 46,
   "metadata": {},
   "outputs": [],
   "source": [
    "dataset_1 = (Xcv, ycv.reshape(TRAINING_ELEMENTS, 1))"
   ]
  },
  {
   "cell_type": "code",
   "execution_count": 47,
   "metadata": {
    "scrolled": true
   },
   "outputs": [],
   "source": [
    "(Xcv, ycv) = dataset_1\n",
    "m, n = Xcv.shape\n",
    "#theta_0 = np.random.rand(n, 1)"
   ]
  },
  {
   "cell_type": "code",
   "execution_count": 327,
   "metadata": {},
   "outputs": [
    {
     "data": {
      "text/plain": [
       "array([[9.65],\n",
       "       [8.87],\n",
       "       [9.65],\n",
       "       [9.65],\n",
       "       [8.67],\n",
       "       [9.34],\n",
       "       [8.2 ],\n",
       "       [8.  ],\n",
       "       [8.87],\n",
       "       [9.65],\n",
       "       [9.34],\n",
       "       [9.  ],\n",
       "       [8.4 ],\n",
       "       [9.65],\n",
       "       [8.87],\n",
       "       [8.3 ],\n",
       "       [8.2 ],\n",
       "       [9.  ],\n",
       "       [8.7 ],\n",
       "       [8.5 ],\n",
       "       [8.21],\n",
       "       [8.87],\n",
       "       [8.  ],\n",
       "       [9.  ],\n",
       "       [8.2 ],\n",
       "       [8.3 ],\n",
       "       [8.2 ],\n",
       "       [9.34],\n",
       "       [8.8 ],\n",
       "       [9.7 ],\n",
       "       [8.67],\n",
       "       [9.  ],\n",
       "       [7.3 ],\n",
       "       [7.5 ],\n",
       "       [9.5 ],\n",
       "       [8.  ],\n",
       "       [8.  ],\n",
       "       [9.7 ],\n",
       "       [9.34],\n",
       "       [9.  ],\n",
       "       [8.87],\n",
       "       [9.  ],\n",
       "       [9.8 ],\n",
       "       [8.67],\n",
       "       [9.34],\n",
       "       [8.87],\n",
       "       [8.3 ],\n",
       "       [8.8 ],\n",
       "       [9.1 ],\n",
       "       [9.65],\n",
       "       [9.5 ],\n",
       "       [7.8 ],\n",
       "       [9.5 ],\n",
       "       [9.4 ],\n",
       "       [8.  ],\n",
       "       [9.7 ],\n",
       "       [9.7 ],\n",
       "       [7.9 ],\n",
       "       [9.  ],\n",
       "       [8.6 ],\n",
       "       [9.2 ],\n",
       "       [8.  ],\n",
       "       [7.7 ],\n",
       "       [8.2 ],\n",
       "       [7.4 ],\n",
       "       [8.  ],\n",
       "       [6.8 ],\n",
       "       [8.21],\n",
       "       [7.5 ],\n",
       "       [8.2 ],\n",
       "       [8.4 ],\n",
       "       [9.6 ],\n",
       "       [7.9 ],\n",
       "       [8.  ],\n",
       "       [7.3 ],\n",
       "       [8.4 ],\n",
       "       [8.3 ],\n",
       "       [9.4 ],\n",
       "       [7.8 ],\n",
       "       [7.7 ],\n",
       "       [8.4 ],\n",
       "       [7.3 ],\n",
       "       [9.6 ],\n",
       "       [7.2 ],\n",
       "       [9.7 ],\n",
       "       [9.64],\n",
       "       [7.8 ],\n",
       "       [8.1 ],\n",
       "       [8.1 ],\n",
       "       [8.2 ],\n",
       "       [9.7 ],\n",
       "       [8.  ],\n",
       "       [9.3 ],\n",
       "       [8.5 ],\n",
       "       [8.6 ],\n",
       "       [9.1 ],\n",
       "       [8.  ],\n",
       "       [9.64],\n",
       "       [8.1 ],\n",
       "       [8.2 ],\n",
       "       [7.66],\n",
       "       [7.9 ],\n",
       "       [8.42],\n",
       "       [8.88],\n",
       "       [7.92],\n",
       "       [8.  ],\n",
       "       [8.  ],\n",
       "       [7.2 ],\n",
       "       [8.2 ],\n",
       "       [7.5 ],\n",
       "       [9.38],\n",
       "       [8.92],\n",
       "       [8.48],\n",
       "       [9.22],\n",
       "       [8.5 ],\n",
       "       [8.28],\n",
       "       [9.36],\n",
       "       [8.56],\n",
       "       [7.46],\n",
       "       [6.8 ],\n",
       "       [9.5 ],\n",
       "       [7.54],\n",
       "       [8.4 ],\n",
       "       [8.1 ],\n",
       "       [9.45],\n",
       "       [8.12],\n",
       "       [9.5 ],\n",
       "       [8.42],\n",
       "       [8.21],\n",
       "       [8.66],\n",
       "       [9.4 ],\n",
       "       [8.02],\n",
       "       [8.1 ],\n",
       "       [9.1 ],\n",
       "       [8.2 ],\n",
       "       [8.68],\n",
       "       [8.22],\n",
       "       [8.4 ],\n",
       "       [9.32],\n",
       "       [9.4 ],\n",
       "       [9.1 ],\n",
       "       [8.78],\n",
       "       [8.22],\n",
       "       [7.5 ],\n",
       "       [8.8 ],\n",
       "       [7.92],\n",
       "       [9.24],\n",
       "       [9.36],\n",
       "       [8.48],\n",
       "       [8.2 ],\n",
       "       [8.2 ],\n",
       "       [8.  ],\n",
       "       [8.77],\n",
       "       [8.5 ],\n",
       "       [8.65],\n",
       "       [8.77],\n",
       "       [8.77],\n",
       "       [8.92],\n",
       "       [9.04],\n",
       "       [8.45],\n",
       "       [7.3 ],\n",
       "       [9.18],\n",
       "       [8.2 ],\n",
       "       [9.12],\n",
       "       [8.56],\n",
       "       [8.  ],\n",
       "       [7.54],\n",
       "       [8.46],\n",
       "       [9.34],\n",
       "       [8.16],\n",
       "       [9.06],\n",
       "       [8.8 ],\n",
       "       [9.5 ],\n",
       "       [8.45],\n",
       "       [9.45],\n",
       "       [9.22],\n",
       "       [8.45],\n",
       "       [8.84],\n",
       "       [8.21],\n",
       "       [7.66],\n",
       "       [9.04],\n",
       "       [8.75],\n",
       "       [8.96],\n",
       "       [7.98],\n",
       "       [8.  ],\n",
       "       [9.32],\n",
       "       [8.92],\n",
       "       [8.34],\n",
       "       [8.  ],\n",
       "       [9.02],\n",
       "       [7.5 ],\n",
       "       [9.28],\n",
       "       [8.89],\n",
       "       [8.88],\n",
       "       [9.12],\n",
       "       [7.46],\n",
       "       [7.9 ],\n",
       "       [8.5 ],\n",
       "       [9.16],\n",
       "       [8.27],\n",
       "       [7.46],\n",
       "       [9.6 ],\n",
       "       [9.04],\n",
       "       [8.4 ],\n",
       "       [8.33],\n",
       "       [9.6 ],\n",
       "       [9.4 ],\n",
       "       [9.07],\n",
       "       [8.33],\n",
       "       [8.84],\n",
       "       [7.8 ],\n",
       "       [8.  ],\n",
       "       [9.35],\n",
       "       [8.89],\n",
       "       [8.5 ],\n",
       "       [9.1 ],\n",
       "       [8.  ],\n",
       "       [8.  ],\n",
       "       [9.5 ],\n",
       "       [7.5 ],\n",
       "       [8.67],\n",
       "       [8.14],\n",
       "       [8.34],\n",
       "       [9.36],\n",
       "       [8.72],\n",
       "       [9.1 ],\n",
       "       [7.3 ],\n",
       "       [8.43],\n",
       "       [8.03],\n",
       "       [8.  ],\n",
       "       [8.84],\n",
       "       [8.98],\n",
       "       [8.85],\n",
       "       [8.47],\n",
       "       [8.4 ],\n",
       "       [8.2 ],\n",
       "       [8.76],\n",
       "       [8.56],\n",
       "       [9.11],\n",
       "       [8.67]])"
      ]
     },
     "execution_count": 327,
     "metadata": {},
     "output_type": "execute_result"
    }
   ],
   "source": [
    "y"
   ]
  },
  {
   "cell_type": "code",
   "execution_count": 49,
   "metadata": {},
   "outputs": [
    {
     "name": "stdout",
     "output_type": "stream",
     "text": [
      "THETA: [[0.07042232]\n",
      " [0.08553303]]\n"
     ]
    }
   ],
   "source": [
    "theta_reg, costs_reg, gradient_norms_reg = gradient_descent_reg(\n",
    "    Xcv,\n",
    "    ycv,\n",
    "    theta_0,\n",
    "    linear_cost,\n",
    "    linear_cost_derivate,\n",
    "    alpha=0.000001,\n",
    "    lam=0.001,\n",
    "    treshold=0.01,\n",
    "    max_iter=10000\n",
    ")\n",
    "\n",
    "print ('THETA:', theta_reg)\n"
   ]
  },
  {
   "cell_type": "code",
   "execution_count": 50,
   "metadata": {},
   "outputs": [
    {
     "name": "stdout",
     "output_type": "stream",
     "text": [
      "[[0.07042232]\n",
      " [0.08553303]]\n"
     ]
    }
   ],
   "source": [
    "theta_quemada = theta_reg\n",
    "print (theta_reg)"
   ]
  },
  {
   "cell_type": "code",
   "execution_count": 51,
   "metadata": {},
   "outputs": [
    {
     "data": {
      "text/plain": [
       "(80, 2)"
      ]
     },
     "execution_count": 51,
     "metadata": {},
     "output_type": "execute_result"
    }
   ],
   "source": [
    "Xcv.shape"
   ]
  },
  {
   "cell_type": "code",
   "execution_count": 52,
   "metadata": {
    "scrolled": true
   },
   "outputs": [
    {
     "data": {
      "image/png": "[encoded data removed]",
      "text/plain": [
       "<Figure size 432x288 with 1 Axes>"
      ]
     },
     "metadata": {
      "needs_background": "light"
     },
     "output_type": "display_data"
    }
   ],
   "source": [
    "plt.scatter(Xcv[:, 1], ycv)\n",
    "\n",
    "plt.plot(Xcv[:, 1], np.matmul(Xcv, theta_quemada), color='red')\n",
    "\n",
    "# plt.plot(np.arange(len(costs)), costs)\n",
    "\n",
    "plt.show()"
   ]
  },
  {
   "cell_type": "code",
   "execution_count": 53,
   "metadata": {
    "scrolled": true
   },
   "outputs": [
    {
     "data": {
      "text/plain": [
       "[<matplotlib.lines.Line2D at 0xdb474d0>]"
      ]
     },
     "execution_count": 53,
     "metadata": {},
     "output_type": "execute_result"
    },
    {
     "data": {
      "image/png": "[encoded data removed]",
      "text/plain": [
       "<Figure size 432x288 with 1 Axes>"
      ]
     },
     "metadata": {
      "needs_background": "light"
     },
     "output_type": "display_data"
    }
   ],
   "source": [
    "plt.plot(np.arange(len(costs_reg)), costs_reg)"
   ]
  },
  {
   "cell_type": "markdown",
   "metadata": {},
   "source": [
    "### Con test"
   ]
  },
  {
   "cell_type": "code",
   "execution_count": 54,
   "metadata": {},
   "outputs": [
    {
     "data": {
      "text/plain": [
       "(80, 1)"
      ]
     },
     "execution_count": 54,
     "metadata": {},
     "output_type": "execute_result"
    }
   ],
   "source": [
    "gretest = test[:,1]\n",
    "gretest = gretest.reshape(-1,1)\n",
    "gretest.shape"
   ]
  },
  {
   "cell_type": "code",
   "execution_count": 55,
   "metadata": {},
   "outputs": [
    {
     "data": {
      "text/plain": [
       "(80, 7)"
      ]
     },
     "execution_count": 55,
     "metadata": {},
     "output_type": "execute_result"
    }
   ],
   "source": [
    "test.shape"
   ]
  },
  {
   "cell_type": "code",
   "execution_count": 56,
   "metadata": {},
   "outputs": [],
   "source": [
    "TRAINING_ELEMENTS = 80\n",
    "one = np.ones(TRAINING_ELEMENTS).reshape(-1,1)\n",
    "Xtest = np.hstack(\n",
    "    (\n",
    "        one,\n",
    "        gretest**2/1000,\n",
    "        # x ** 2,\n",
    "        \n",
    "        # x ** 3,\n",
    "    )\n",
    ")"
   ]
  },
  {
   "cell_type": "code",
   "execution_count": 57,
   "metadata": {},
   "outputs": [],
   "source": [
    "dataset_1 = (Xtest, ytest.reshape(TRAINING_ELEMENTS, 1))"
   ]
  },
  {
   "cell_type": "code",
   "execution_count": 58,
   "metadata": {
    "scrolled": true
   },
   "outputs": [],
   "source": [
    "(Xtest, ytest) = dataset_1\n",
    "m, n = Xtest.shape\n",
    "#theta_0 = np.random.rand(n, 1)"
   ]
  },
  {
   "cell_type": "markdown",
   "metadata": {},
   "source": [
    "theta_reg_t, costs_reg_t, gradient_norms_reg_t = gradient_descent_reg(\n",
    "    Xtest,\n",
    "    ytest,\n",
    "    theta_0,\n",
    "    linear_cost,\n",
    "    linear_cost_derivate,\n",
    "    alpha=0.000001,\n",
    "    lam=0.001,\n",
    "    treshold=0.01,\n",
    "    max_iter=10000\n",
    ")\n",
    "\n",
    "print ('THETA:', theta_reg_t)\n"
   ]
  },
  {
   "cell_type": "code",
   "execution_count": 342,
   "metadata": {},
   "outputs": [
    {
     "name": "stdout",
     "output_type": "stream",
     "text": [
      "[[0.12305427]\n",
      " [0.08425777]]\n"
     ]
    }
   ],
   "source": [
    "#theta_quemada = theta_reg_t\n",
    "#print (theta_reg_t)"
   ]
  },
  {
   "cell_type": "code",
   "execution_count": 59,
   "metadata": {
    "scrolled": true
   },
   "outputs": [
    {
     "data": {
      "image/png": "[encoded data removed]",
      "text/plain": [
       "<Figure size 432x288 with 1 Axes>"
      ]
     },
     "metadata": {
      "needs_background": "light"
     },
     "output_type": "display_data"
    }
   ],
   "source": [
    "plt.scatter(Xtest[:, 1], ytest)\n",
    "\n",
    "plt.plot(Xtest[:, 1], np.matmul(Xtest, theta_quemada), color='red')\n",
    "\n",
    "# plt.plot(np.arange(len(costs)), costs)\n",
    "\n",
    "plt.show()"
   ]
  },
  {
   "cell_type": "markdown",
   "metadata": {},
   "source": [
    "## Se aplica ahora el algoritmo con TOEFL"
   ]
  },
  {
   "cell_type": "code",
   "execution_count": 440,
   "metadata": {},
   "outputs": [
    {
     "data": {
      "text/plain": [
       "(240, 1)"
      ]
     },
     "execution_count": 440,
     "metadata": {},
     "output_type": "execute_result"
    }
   ],
   "source": [
    "toefl = training[:,2]\n",
    "toefl = toefl.reshape(-1,1)\n",
    "toefl.shape"
   ]
  },
  {
   "cell_type": "code",
   "execution_count": 441,
   "metadata": {},
   "outputs": [],
   "source": [
    "TRAINING_ELEMENTS = 240\n",
    "one = np.ones(TRAINING_ELEMENTS).reshape(-1,1)\n",
    "X = np.hstack(\n",
    "    (\n",
    "        one,\n",
    "        toefl**2/1000,\n",
    "        # x ** 2,\n",
    "        \n",
    "        # x ** 3,\n",
    "    )\n",
    ")"
   ]
  },
  {
   "cell_type": "code",
   "execution_count": 442,
   "metadata": {},
   "outputs": [
    {
     "data": {
      "text/plain": [
       "array([[ 1.   , 13.924],\n",
       "       [ 1.   , 11.449],\n",
       "       [ 1.   , 13.924],\n",
       "       [ 1.   , 13.924],\n",
       "       [ 1.   , 12.1  ],\n",
       "       [ 1.   , 13.225],\n",
       "       [ 1.   , 11.881],\n",
       "       [ 1.   , 10.816],\n",
       "       [ 1.   , 11.449],\n",
       "       [ 1.   , 13.924],\n",
       "       [ 1.   , 13.225],\n",
       "       [ 1.   , 12.321],\n",
       "       [ 1.   , 11.236],\n",
       "       [ 1.   , 13.924],\n",
       "       [ 1.   , 11.449],\n",
       "       [ 1.   , 11.025],\n",
       "       [ 1.   , 10.816],\n",
       "       [ 1.   , 12.321],\n",
       "       [ 1.   , 11.449],\n",
       "       [ 1.   , 10.404],\n",
       "       [ 1.   , 10.609],\n",
       "       [ 1.   , 11.449],\n",
       "       [ 1.   , 10.816],\n",
       "       [ 1.   , 12.321],\n",
       "       [ 1.   , 10.816],\n",
       "       [ 1.   , 11.025],\n",
       "       [ 1.   , 10.816],\n",
       "       [ 1.   , 13.225],\n",
       "       [ 1.   , 11.881],\n",
       "       [ 1.   , 14.161],\n",
       "       [ 1.   , 12.1  ],\n",
       "       [ 1.   , 12.321],\n",
       "       [ 1.   ,  9.801],\n",
       "       [ 1.   ,  9.604],\n",
       "       [ 1.   , 13.456],\n",
       "       [ 1.   , 11.236],\n",
       "       [ 1.   , 11.236],\n",
       "       [ 1.   , 14.161],\n",
       "       [ 1.   , 13.225],\n",
       "       [ 1.   , 12.321],\n",
       "       [ 1.   , 11.449],\n",
       "       [ 1.   , 12.321],\n",
       "       [ 1.   , 12.544],\n",
       "       [ 1.   , 12.1  ],\n",
       "       [ 1.   , 13.225],\n",
       "       [ 1.   , 11.449],\n",
       "       [ 1.   , 11.025],\n",
       "       [ 1.   , 11.881],\n",
       "       [ 1.   , 12.544],\n",
       "       [ 1.   , 13.924],\n",
       "       [ 1.   , 13.456],\n",
       "       [ 1.   , 11.025],\n",
       "       [ 1.   , 13.456],\n",
       "       [ 1.   , 13.924],\n",
       "       [ 1.   , 10.816],\n",
       "       [ 1.   , 14.161],\n",
       "       [ 1.   , 14.161],\n",
       "       [ 1.   , 10.   ],\n",
       "       [ 1.   , 12.321],\n",
       "       [ 1.   , 11.664],\n",
       "       [ 1.   , 12.1  ],\n",
       "       [ 1.   , 10.816],\n",
       "       [ 1.   , 11.664],\n",
       "       [ 1.   , 10.816],\n",
       "       [ 1.   , 10.404],\n",
       "       [ 1.   , 11.236],\n",
       "       [ 1.   ,  9.801],\n",
       "       [ 1.   , 10.609],\n",
       "       [ 1.   ,  9.604],\n",
       "       [ 1.   , 11.025],\n",
       "       [ 1.   , 11.236],\n",
       "       [ 1.   , 12.996],\n",
       "       [ 1.   , 11.449],\n",
       "       [ 1.   , 10.404],\n",
       "       [ 1.   ,  9.801],\n",
       "       [ 1.   , 11.236],\n",
       "       [ 1.   ,  9.604],\n",
       "       [ 1.   , 12.769],\n",
       "       [ 1.   , 11.025],\n",
       "       [ 1.   , 11.664],\n",
       "       [ 1.   , 11.236],\n",
       "       [ 1.   ,  9.801],\n",
       "       [ 1.   , 14.4  ],\n",
       "       [ 1.   ,  8.649],\n",
       "       [ 1.   , 14.161],\n",
       "       [ 1.   , 13.924],\n",
       "       [ 1.   , 11.025],\n",
       "       [ 1.   ,  9.409],\n",
       "       [ 1.   ,  9.409],\n",
       "       [ 1.   , 10.201],\n",
       "       [ 1.   , 14.161],\n",
       "       [ 1.   , 11.881],\n",
       "       [ 1.   , 12.996],\n",
       "       [ 1.   , 11.449],\n",
       "       [ 1.   , 11.664],\n",
       "       [ 1.   , 13.689],\n",
       "       [ 1.   , 10.404],\n",
       "       [ 1.   , 13.924],\n",
       "       [ 1.   ,  9.409],\n",
       "       [ 1.   , 11.881],\n",
       "       [ 1.   ,  9.801],\n",
       "       [ 1.   , 10.   ],\n",
       "       [ 1.   , 11.236],\n",
       "       [ 1.   , 12.769],\n",
       "       [ 1.   , 11.236],\n",
       "       [ 1.   , 13.456],\n",
       "       [ 1.   , 13.456],\n",
       "       [ 1.   ,  8.649],\n",
       "       [ 1.   , 11.881],\n",
       "       [ 1.   , 11.025],\n",
       "       [ 1.   , 13.456],\n",
       "       [ 1.   , 12.544],\n",
       "       [ 1.   , 11.664],\n",
       "       [ 1.   , 12.1  ],\n",
       "       [ 1.   , 10.404],\n",
       "       [ 1.   , 11.449],\n",
       "       [ 1.   , 13.225],\n",
       "       [ 1.   , 12.1  ],\n",
       "       [ 1.   , 10.816],\n",
       "       [ 1.   ,  9.801],\n",
       "       [ 1.   , 13.456],\n",
       "       [ 1.   ,  9.025],\n",
       "       [ 1.   , 11.236],\n",
       "       [ 1.   ,  9.409],\n",
       "       [ 1.   , 12.321],\n",
       "       [ 1.   , 11.025],\n",
       "       [ 1.   , 13.456],\n",
       "       [ 1.   , 11.236],\n",
       "       [ 1.   , 10.609],\n",
       "       [ 1.   , 10.609],\n",
       "       [ 1.   , 12.769],\n",
       "       [ 1.   , 11.025],\n",
       "       [ 1.   , 10.   ],\n",
       "       [ 1.   , 12.544],\n",
       "       [ 1.   , 11.025],\n",
       "       [ 1.   , 11.881],\n",
       "       [ 1.   , 11.664],\n",
       "       [ 1.   , 11.236],\n",
       "       [ 1.   , 12.769],\n",
       "       [ 1.   , 12.769],\n",
       "       [ 1.   , 12.1  ],\n",
       "       [ 1.   , 12.1  ],\n",
       "       [ 1.   ,  9.801],\n",
       "       [ 1.   , 11.025],\n",
       "       [ 1.   , 12.1  ],\n",
       "       [ 1.   , 11.236],\n",
       "       [ 1.   , 14.161],\n",
       "       [ 1.   , 13.225],\n",
       "       [ 1.   , 11.025],\n",
       "       [ 1.   , 10.816],\n",
       "       [ 1.   , 11.025],\n",
       "       [ 1.   , 10.816],\n",
       "       [ 1.   , 11.881],\n",
       "       [ 1.   , 10.404],\n",
       "       [ 1.   , 11.025],\n",
       "       [ 1.   , 11.881],\n",
       "       [ 1.   , 11.881],\n",
       "       [ 1.   , 12.544],\n",
       "       [ 1.   , 11.664],\n",
       "       [ 1.   , 11.025],\n",
       "       [ 1.   ,  9.801],\n",
       "       [ 1.   , 12.321],\n",
       "       [ 1.   , 11.025],\n",
       "       [ 1.   , 11.881],\n",
       "       [ 1.   , 12.1  ],\n",
       "       [ 1.   , 12.1  ],\n",
       "       [ 1.   ,  9.025],\n",
       "       [ 1.   , 11.449],\n",
       "       [ 1.   , 13.225],\n",
       "       [ 1.   , 10.   ],\n",
       "       [ 1.   , 12.544],\n",
       "       [ 1.   , 11.881],\n",
       "       [ 1.   , 14.4  ],\n",
       "       [ 1.   , 10.609],\n",
       "       [ 1.   , 13.225],\n",
       "       [ 1.   , 12.1  ],\n",
       "       [ 1.   , 11.025],\n",
       "       [ 1.   , 10.816],\n",
       "       [ 1.   , 10.609],\n",
       "       [ 1.   ,  9.409],\n",
       "       [ 1.   , 11.236],\n",
       "       [ 1.   , 11.025],\n",
       "       [ 1.   , 14.4  ],\n",
       "       [ 1.   ,  9.801],\n",
       "       [ 1.   , 11.881],\n",
       "       [ 1.   , 12.769],\n",
       "       [ 1.   , 12.544],\n",
       "       [ 1.   , 11.025],\n",
       "       [ 1.   , 12.1  ],\n",
       "       [ 1.   , 12.996],\n",
       "       [ 1.   , 11.025],\n",
       "       [ 1.   , 13.456],\n",
       "       [ 1.   , 11.664],\n",
       "       [ 1.   , 12.769],\n",
       "       [ 1.   , 11.881],\n",
       "       [ 1.   , 10.816],\n",
       "       [ 1.   , 10.   ],\n",
       "       [ 1.   , 11.881],\n",
       "       [ 1.   , 12.321],\n",
       "       [ 1.   , 10.404],\n",
       "       [ 1.   ,  9.801],\n",
       "       [ 1.   , 14.4  ],\n",
       "       [ 1.   , 11.664],\n",
       "       [ 1.   , 12.996],\n",
       "       [ 1.   , 11.236],\n",
       "       [ 1.   , 12.996],\n",
       "       [ 1.   , 13.924],\n",
       "       [ 1.   , 13.689],\n",
       "       [ 1.   , 10.404],\n",
       "       [ 1.   , 10.816],\n",
       "       [ 1.   ,  9.409],\n",
       "       [ 1.   , 10.404],\n",
       "       [ 1.   , 13.924],\n",
       "       [ 1.   , 11.664],\n",
       "       [ 1.   , 10.404],\n",
       "       [ 1.   , 12.544],\n",
       "       [ 1.   , 12.1  ],\n",
       "       [ 1.   , 12.1  ],\n",
       "       [ 1.   , 14.4  ],\n",
       "       [ 1.   , 11.025],\n",
       "       [ 1.   , 12.1  ],\n",
       "       [ 1.   , 11.236],\n",
       "       [ 1.   , 11.449],\n",
       "       [ 1.   , 13.456],\n",
       "       [ 1.   , 12.544],\n",
       "       [ 1.   , 12.544],\n",
       "       [ 1.   ,  9.801],\n",
       "       [ 1.   , 10.816],\n",
       "       [ 1.   ,  9.604],\n",
       "       [ 1.   , 10.816],\n",
       "       [ 1.   , 10.816],\n",
       "       [ 1.   , 12.1  ],\n",
       "       [ 1.   , 12.1  ],\n",
       "       [ 1.   , 11.236],\n",
       "       [ 1.   , 12.996],\n",
       "       [ 1.   , 11.881],\n",
       "       [ 1.   , 11.881],\n",
       "       [ 1.   , 12.1  ],\n",
       "       [ 1.   , 12.996],\n",
       "       [ 1.   , 12.544]])"
      ]
     },
     "execution_count": 442,
     "metadata": {},
     "output_type": "execute_result"
    }
   ],
   "source": [
    "X"
   ]
  },
  {
   "cell_type": "code",
   "execution_count": 443,
   "metadata": {},
   "outputs": [],
   "source": [
    "dataset_1 = (X, y.reshape(TRAINING_ELEMENTS, 1))"
   ]
  },
  {
   "cell_type": "code",
   "execution_count": 444,
   "metadata": {
    "scrolled": true
   },
   "outputs": [],
   "source": [
    "(X, y) = dataset_1\n",
    "m, n = X.shape\n",
    "theta_0 = np.random.rand(n, 1)"
   ]
  },
  {
   "cell_type": "code",
   "execution_count": 445,
   "metadata": {},
   "outputs": [
    {
     "name": "stdout",
     "output_type": "stream",
     "text": [
      "THETA: [[0.07042232]\n",
      " [0.08553303]]\n"
     ]
    }
   ],
   "source": [
    "theta_reg, costs_reg, gradient_norms_reg = gradient_descent_reg(\n",
    "    X,\n",
    "    y,\n",
    "    theta_0,\n",
    "    linear_cost,\n",
    "    linear_cost_derivate,\n",
    "    alpha=0.00001,\n",
    "    lam=0.01,\n",
    "    treshold=0.01,\n",
    "    max_iter=10000\n",
    ")\n",
    "\n",
    "print ('THETA:', theta)\n"
   ]
  },
  {
   "cell_type": "code",
   "execution_count": 446,
   "metadata": {
    "scrolled": true
   },
   "outputs": [
    {
     "name": "stdout",
     "output_type": "stream",
     "text": [
      "[[0.07042232]\n",
      " [0.08553303]]\n"
     ]
    }
   ],
   "source": [
    "theta_quemada = theta\n",
    "print (theta)"
   ]
  },
  {
   "cell_type": "code",
   "execution_count": 447,
   "metadata": {
    "scrolled": true
   },
   "outputs": [
    {
     "data": {
      "image/png": "[encoded data removed]",
      "text/plain": [
       "<Figure size 432x288 with 1 Axes>"
      ]
     },
     "metadata": {
      "needs_background": "light"
     },
     "output_type": "display_data"
    }
   ],
   "source": [
    "plt.scatter(X[:, 1], y)\n",
    "\n",
    "plt.plot(X[:, 1], np.matmul(X, theta_quemada), color='red')\n",
    "\n",
    "# plt.plot(np.arange(len(costs)), costs)\n",
    "\n",
    "plt.show()"
   ]
  },
  {
   "cell_type": "code",
   "execution_count": 416,
   "metadata": {
    "scrolled": false
   },
   "outputs": [
    {
     "data": {
      "text/plain": [
       "[<matplotlib.lines.Line2D at 0xec16330>]"
      ]
     },
     "execution_count": 416,
     "metadata": {},
     "output_type": "execute_result"
    },
    {
     "data": {
      "image/png": "[encoded data removed]",
      "text/plain": [
       "<Figure size 432x288 with 1 Axes>"
      ]
     },
     "metadata": {
      "needs_background": "light"
     },
     "output_type": "display_data"
    }
   ],
   "source": [
    "plt.plot(np.arange(len(costs_reg)), costs_reg)"
   ]
  },
  {
   "cell_type": "markdown",
   "metadata": {},
   "source": [
    "### Cross Validation"
   ]
  },
  {
   "cell_type": "code",
   "execution_count": 417,
   "metadata": {},
   "outputs": [
    {
     "data": {
      "text/plain": [
       "(80, 1)"
      ]
     },
     "execution_count": 417,
     "metadata": {},
     "output_type": "execute_result"
    }
   ],
   "source": [
    "toeflcv = cv[:,2]\n",
    "toeflcv = toeflcv.reshape(-1,1)\n",
    "toeflcv.shape"
   ]
  },
  {
   "cell_type": "code",
   "execution_count": 418,
   "metadata": {},
   "outputs": [],
   "source": [
    "TRAINING_ELEMENTS = 80\n",
    "one = np.ones(TRAINING_ELEMENTS).reshape(-1,1)\n",
    "Xcv = np.hstack(\n",
    "    (\n",
    "        one,\n",
    "        toeflcv**2/1000,\n",
    "        # x ** 2,\n",
    "        \n",
    "        # x ** 3,\n",
    "    )\n",
    ")"
   ]
  },
  {
   "cell_type": "code",
   "execution_count": 419,
   "metadata": {},
   "outputs": [
    {
     "data": {
      "text/plain": [
       "array([[ 1.   , 11.881],\n",
       "       [ 1.   , 11.881],\n",
       "       [ 1.   , 12.769],\n",
       "       [ 1.   , 10.   ],\n",
       "       [ 1.   , 10.201],\n",
       "       [ 1.   , 11.881],\n",
       "       [ 1.   , 13.456],\n",
       "       [ 1.   , 10.609],\n",
       "       [ 1.   , 10.   ],\n",
       "       [ 1.   , 11.881],\n",
       "       [ 1.   , 10.609],\n",
       "       [ 1.   , 11.664],\n",
       "       [ 1.   , 10.816],\n",
       "       [ 1.   , 11.664],\n",
       "       [ 1.   , 10.404],\n",
       "       [ 1.   , 11.881],\n",
       "       [ 1.   ,  9.604],\n",
       "       [ 1.   , 12.1  ],\n",
       "       [ 1.   , 14.4  ],\n",
       "       [ 1.   , 11.025],\n",
       "       [ 1.   , 11.236],\n",
       "       [ 1.   , 12.544],\n",
       "       [ 1.   ,  9.409],\n",
       "       [ 1.   ,  8.649],\n",
       "       [ 1.   , 13.924],\n",
       "       [ 1.   , 11.236],\n",
       "       [ 1.   , 12.769],\n",
       "       [ 1.   , 12.1  ],\n",
       "       [ 1.   ,  9.801],\n",
       "       [ 1.   , 11.025],\n",
       "       [ 1.   , 13.924],\n",
       "       [ 1.   , 14.161],\n",
       "       [ 1.   , 10.609],\n",
       "       [ 1.   ,  9.409],\n",
       "       [ 1.   ,  9.025],\n",
       "       [ 1.   , 12.769],\n",
       "       [ 1.   , 14.4  ],\n",
       "       [ 1.   , 10.   ],\n",
       "       [ 1.   , 12.544],\n",
       "       [ 1.   , 11.664],\n",
       "       [ 1.   , 10.   ],\n",
       "       [ 1.   , 12.769],\n",
       "       [ 1.   , 13.689],\n",
       "       [ 1.   , 14.4  ],\n",
       "       [ 1.   , 14.4  ],\n",
       "       [ 1.   , 11.881],\n",
       "       [ 1.   , 14.161],\n",
       "       [ 1.   , 10.816],\n",
       "       [ 1.   , 12.769],\n",
       "       [ 1.   , 11.236],\n",
       "       [ 1.   , 10.404],\n",
       "       [ 1.   , 12.996],\n",
       "       [ 1.   , 14.161],\n",
       "       [ 1.   , 10.   ],\n",
       "       [ 1.   , 12.544],\n",
       "       [ 1.   , 12.996],\n",
       "       [ 1.   , 10.404],\n",
       "       [ 1.   , 10.816],\n",
       "       [ 1.   , 12.544],\n",
       "       [ 1.   , 11.664],\n",
       "       [ 1.   , 10.816],\n",
       "       [ 1.   , 13.456],\n",
       "       [ 1.   , 13.456],\n",
       "       [ 1.   , 11.025],\n",
       "       [ 1.   , 10.816],\n",
       "       [ 1.   , 12.321],\n",
       "       [ 1.   , 11.664],\n",
       "       [ 1.   , 10.404],\n",
       "       [ 1.   , 11.449],\n",
       "       [ 1.   , 10.609],\n",
       "       [ 1.   ,  9.604],\n",
       "       [ 1.   , 11.236],\n",
       "       [ 1.   ,  9.604],\n",
       "       [ 1.   , 13.225],\n",
       "       [ 1.   , 12.544],\n",
       "       [ 1.   , 12.1  ],\n",
       "       [ 1.   , 11.881],\n",
       "       [ 1.   ,  9.409],\n",
       "       [ 1.   , 11.881],\n",
       "       [ 1.   , 12.1  ]])"
      ]
     },
     "execution_count": 419,
     "metadata": {},
     "output_type": "execute_result"
    }
   ],
   "source": [
    "Xcv"
   ]
  },
  {
   "cell_type": "code",
   "execution_count": 420,
   "metadata": {},
   "outputs": [],
   "source": [
    "dataset_1 = (Xcv, ycv.reshape(TRAINING_ELEMENTS, 1))"
   ]
  },
  {
   "cell_type": "code",
   "execution_count": 421,
   "metadata": {
    "scrolled": true
   },
   "outputs": [],
   "source": [
    "(Xcv, ycv) = dataset_1\n",
    "m, n = Xcv.shape\n",
    "#theta_0 = np.random.rand(n, 1)"
   ]
  },
  {
   "cell_type": "code",
   "execution_count": 422,
   "metadata": {},
   "outputs": [
    {
     "name": "stdout",
     "output_type": "stream",
     "text": [
      "THETA: [[0.90751693]\n",
      " [0.65748776]]\n"
     ]
    }
   ],
   "source": [
    "theta_reg, costs_reg, gradient_norms_reg = gradient_descent_reg(\n",
    "    Xcv,\n",
    "    ycv,\n",
    "    theta_0,\n",
    "    linear_cost,\n",
    "    linear_cost_derivate,\n",
    "    alpha=0.00001,\n",
    "    lam=0.01,\n",
    "    treshold=0.01,\n",
    "    max_iter=10000\n",
    ")\n",
    "\n",
    "print ('THETA:', theta_reg)\n"
   ]
  },
  {
   "cell_type": "code",
   "execution_count": 423,
   "metadata": {},
   "outputs": [
    {
     "name": "stdout",
     "output_type": "stream",
     "text": [
      "[[0.90751693]\n",
      " [0.65748776]]\n"
     ]
    }
   ],
   "source": [
    "theta_quemada = theta_reg\n",
    "print (theta_reg)"
   ]
  },
  {
   "cell_type": "code",
   "execution_count": 424,
   "metadata": {},
   "outputs": [
    {
     "data": {
      "text/plain": [
       "(80, 2)"
      ]
     },
     "execution_count": 424,
     "metadata": {},
     "output_type": "execute_result"
    }
   ],
   "source": [
    "Xcv.shape"
   ]
  },
  {
   "cell_type": "code",
   "execution_count": 425,
   "metadata": {
    "scrolled": true
   },
   "outputs": [
    {
     "data": {
      "image/png": "[encoded data removed]",
      "text/plain": [
       "<Figure size 432x288 with 1 Axes>"
      ]
     },
     "metadata": {
      "needs_background": "light"
     },
     "output_type": "display_data"
    }
   ],
   "source": [
    "plt.scatter(Xcv[:, 1], ycv)\n",
    "\n",
    "plt.plot(Xcv[:, 1], np.matmul(Xcv, theta_quemada), color='red')\n",
    "\n",
    "# plt.plot(np.arange(len(costs)), costs)\n",
    "\n",
    "plt.show()"
   ]
  },
  {
   "cell_type": "code",
   "execution_count": 426,
   "metadata": {
    "scrolled": true
   },
   "outputs": [
    {
     "data": {
      "text/plain": [
       "[<matplotlib.lines.Line2D at 0x5780690>]"
      ]
     },
     "execution_count": 426,
     "metadata": {},
     "output_type": "execute_result"
    },
    {
     "data": {
      "image/png": "[encoded data removed]",
      "text/plain": [
       "<Figure size 432x288 with 1 Axes>"
      ]
     },
     "metadata": {
      "needs_background": "light"
     },
     "output_type": "display_data"
    }
   ],
   "source": [
    "plt.plot(np.arange(len(costs_reg)), costs_reg)"
   ]
  },
  {
   "cell_type": "markdown",
   "metadata": {},
   "source": [
    "### Con test"
   ]
  },
  {
   "cell_type": "code",
   "execution_count": 427,
   "metadata": {},
   "outputs": [
    {
     "data": {
      "text/plain": [
       "(80, 1)"
      ]
     },
     "execution_count": 427,
     "metadata": {},
     "output_type": "execute_result"
    }
   ],
   "source": [
    "toefltest = test[:,2]\n",
    "toefltest = toefltest.reshape(-1,1)\n",
    "toefltest.shape"
   ]
  },
  {
   "cell_type": "code",
   "execution_count": 428,
   "metadata": {},
   "outputs": [
    {
     "data": {
      "text/plain": [
       "(80, 1)"
      ]
     },
     "execution_count": 428,
     "metadata": {},
     "output_type": "execute_result"
    }
   ],
   "source": [
    "toefltest.shape"
   ]
  },
  {
   "cell_type": "code",
   "execution_count": 429,
   "metadata": {},
   "outputs": [],
   "source": [
    "TRAINING_ELEMENTS = 80\n",
    "one = np.ones(TRAINING_ELEMENTS).reshape(-1,1)\n",
    "Xtest = np.hstack(\n",
    "    (\n",
    "        one,\n",
    "        toefltest**2/1000,\n",
    "        # x ** 2,\n",
    "        \n",
    "        # x ** 3,\n",
    "    )\n",
    ")"
   ]
  },
  {
   "cell_type": "code",
   "execution_count": 430,
   "metadata": {},
   "outputs": [],
   "source": [
    "dataset_1 = (Xtest, ytest.reshape(TRAINING_ELEMENTS, 1))"
   ]
  },
  {
   "cell_type": "code",
   "execution_count": 390,
   "metadata": {
    "scrolled": true
   },
   "outputs": [],
   "source": [
    "(Xtest, ytest) = dataset_1\n",
    "m, n = Xtest.shape\n",
    "#theta_0 = np.random.rand(n, 1)"
   ]
  },
  {
   "cell_type": "markdown",
   "metadata": {},
   "source": [
    "theta_reg_t, costs_reg_t, gradient_norms_reg_t = gradient_descent_reg(\n",
    "    Xtest,\n",
    "    ytest,\n",
    "    theta_0,\n",
    "    linear_cost,\n",
    "    linear_cost_derivate,\n",
    "    alpha=0.000001,\n",
    "    lam=0.001,\n",
    "    treshold=0.01,\n",
    "    max_iter=10000\n",
    ")\n",
    "\n",
    "print ('THETA:', theta_reg_t)\n"
   ]
  },
  {
   "cell_type": "code",
   "execution_count": 104,
   "metadata": {},
   "outputs": [],
   "source": [
    "#theta_quemada = theta_reg_t\n",
    "#print (theta_reg_t)"
   ]
  },
  {
   "cell_type": "code",
   "execution_count": 431,
   "metadata": {
    "scrolled": true
   },
   "outputs": [
    {
     "data": {
      "image/png": "[encoded data removed]",
      "text/plain": [
       "<Figure size 432x288 with 1 Axes>"
      ]
     },
     "metadata": {
      "needs_background": "light"
     },
     "output_type": "display_data"
    }
   ],
   "source": [
    "plt.scatter(Xtest[:, 1], ytest)\n",
    "\n",
    "plt.plot(Xtest[:, 1], np.matmul(Xtest, theta_quemada), color='red')\n",
    "\n",
    "# plt.plot(np.arange(len(costs)), costs)\n",
    "\n",
    "plt.show()"
   ]
  },
  {
   "cell_type": "markdown",
   "metadata": {},
   "source": [
    "## En los hallazgos encontrados se puede ver al momento de agregar la regularización en la variable de GreScore si se logro estabilizar la función con una lambda de 0.001. Se escogió este valor pequeño para poder minimizar la theta,  y se eligió un alpha menor, debido que con valores muy altos el valor de la theta tendia a infinito. Con el treshold no se hizo mayor cosa pero se establecio el valor de 0.001. Como se puede observar con la variable de GreScore si se obtuvo una buena predicción debido que la linea si va en tendencia con los valores, en el train, en el CrossValidation y con los valores de Test. No se puede decir lo mismo con la variable de Toefl también seleccionada para ver como está la regresión, donde se establecieron valores similares de alpha, lambda y treshold para la Toefl, debido que por motivos de prueba se utilizaron los mismos valores, pero un algo raro que ocurrió es que en training la gráfica no queda bien, pero en CrossValidation y en Test si quedaron bien, pero la predicción pudo ser mejor, en este caso quizá cambiando los valores iniciales para otra forma de distribución de los datos y quizá mejorando la lambda en este caso aumentando el valor, para poder mejorar la inclinación de la linea, pero los valores de alpha y treshold si se podian mantener de manera similar."
   ]
  }
 ],
 "metadata": {
  "kernelspec": {
   "display_name": "Python 3",
   "language": "python",
   "name": "python3"
  },
  "language_info": {
   "codemirror_mode": {
    "name": "ipython",
    "version": 3
   },
   "file_extension": ".py",
   "mimetype": "text/x-python",
   "name": "python",
   "nbconvert_exporter": "python",
   "pygments_lexer": "ipython3",
   "version": "3.7.2"
  }
 },
 "nbformat": 4,
 "nbformat_minor": 4
}
